{
  "cells": [
    {
      "cell_type": "markdown",
      "metadata": {
        "id": "3zUnfBbDiAt-"
      },
      "source": [
        "Name: Arpan Das\n",
        "\n",
        "Roll No.: 302211001012\n",
        "\n",
        "Group: A2\n",
        "\n",
        "UG3, Information Technology"
      ]
    },
    {
      "cell_type": "markdown",
      "metadata": {
        "id": "wTy67jQsiL5t"
      },
      "source": [
        "**Question:**\n",
        "\n",
        "Write a Python program to solve the problem using Breadth-First Search and Depth-Limited Search.\n",
        "Provide necessary inputs to the program. Do not statically mention any of them inside the program.\n",
        "Intermediate output shall be properly displayed"
      ]
    },
    {
      "cell_type": "markdown",
      "metadata": {
        "id": "QJjC7fsoifKp"
      },
      "source": [
        "**Code:**"
      ]
    },
    {
      "cell_type": "markdown",
      "metadata": {},
      "source": [
        "## Tic Tac Toe Game\n",
        "\n",
        "This Python program implements a Tic Tac Toe game where a player can play against an AI opponent. The AI opponent has two strategies: Depth-Limited Search (DLS) and Breadth-First Search (BFS). The game is played on a 3x3 board.\n",
        "This Python code snippet imports the copy, random, and deque "
      ]
    },
    {
      "cell_type": "code",
      "execution_count": null,
      "metadata": {
        "colab": {
          "base_uri": "https://localhost:8080/"
        },
        "id": "ZAvp-vtChxom",
        "outputId": "7ca5543e-3e7e-4ef7-c0fa-fd853b899a8b"
      },
      "outputs": [],
      "source": [
        "import copy\n",
        "import random\n",
        "from collections import deque"
      ]
    },
    {
      "cell_type": "markdown",
      "metadata": {},
      "source": [
        "### Board Initialization and Display\n",
        "\n",
        "The `initialize_board()` function creates an empty 3x3 Tic Tac Toe board represented as a 2D list. The `display_board(board)` function takes a board as input and displays its current state on the console."
      ]
    },
    {
      "cell_type": "code",
      "execution_count": 2,
      "metadata": {},
      "outputs": [],
      "source": [
        "# Initialize the Tic Tac Toe board\n",
        "def initialize_board():\n",
        "    return [[' ' for _ in range(3)] for _ in range(3)]\n",
        "\n",
        "# Display the current state of the board\n",
        "def display_board(board):\n",
        "    print(\"\\nCurrent Board:\")\n",
        "    for row in board:\n",
        "        print(' | '.join(row))\n",
        "        print('-' * 9)"
      ]
    },
    {
      "cell_type": "markdown",
      "metadata": {},
      "source": [
        "\n",
        "### Win and Draw Conditions\n",
        "\n",
        "The `has_player_won(board, player)` function checks if a player (either 'X' or 'O') has won the game by examining the rows, columns, and diagonals of the board. The `is_board_full(board)` function determines if the board is full and no more moves can be made, resulting in a draw.\n"
      ]
    },
    {
      "cell_type": "code",
      "execution_count": 4,
      "metadata": {},
      "outputs": [],
      "source": [
        "# Check if a player has won\n",
        "def has_player_won(board, player):\n",
        "    for i in range(3):\n",
        "        if all(board[i][j] == player for j in range(3)) or \\\n",
        "           all(board[j][i] == player for j in range(3)):\n",
        "            return True\n",
        "    if all(board[i][i] == player for i in range(3)) or \\\n",
        "       all(board[i][2 - i] == player for i in range(3)):\n",
        "        return True\n",
        "    return False\n",
        "\n",
        "# Check if the board is full\n",
        "def is_board_full(board):\n",
        "    return all(board[i][j] != ' ' for i in range(3) for j in range(3))"
      ]
    },
    {
      "cell_type": "markdown",
      "metadata": {},
      "source": [
        "\n",
        "### Making Player Moves\n",
        "\n",
        "The `make_player_move(board, row, col)` function allows the player to make a move on the board by providing the desired row and column indices. It returns `True` if the move is valid and made successfully, and `False` otherwise.\n"
      ]
    },
    {
      "cell_type": "code",
      "execution_count": 5,
      "metadata": {},
      "outputs": [],
      "source": [
        "# Make a player move on the board\n",
        "def make_player_move(board, row, col):\n",
        "    if board[row][col] == ' ':\n",
        "        board[row][col] = 'X'\n",
        "        return True\n",
        "    return False"
      ]
    },
    {
      "cell_type": "markdown",
      "metadata": {},
      "source": [
        "### Valid Move Generation\n",
        "\n",
        "The `generate_valid_moves(board)` function generates a list of valid moves that can be made on the board. These are positions where the board cells are empty."
      ]
    },
    {
      "cell_type": "code",
      "execution_count": 6,
      "metadata": {},
      "outputs": [],
      "source": [
        "# Generate a list of valid moves on the board\n",
        "def generate_valid_moves(board):\n",
        "    moves = []\n",
        "    for i in range(3):\n",
        "        for j in range(3):\n",
        "            if board[i][j] == ' ':\n",
        "                moves.append((i, j))\n",
        "    return moves"
      ]
    },
    {
      "cell_type": "markdown",
      "metadata": {},
      "source": [
        "### Depth-Limited Search (DLS) Algorithm\n",
        "\n",
        "The `dls_computer_move(board, player, depth_limit)` function implements the DLS strategy for the AI opponent's move. It explores potential moves up to a certain depth limit to determine the best move that leads to a win, if possible. It uses recursion to explore the game tree and evaluates the best move based on minimizing the opponent's winning chances."
      ]
    },
    {
      "cell_type": "code",
      "execution_count": 7,
      "metadata": {},
      "outputs": [],
      "source": [
        "# Depth-Limited Search algorithm for computer's move\n",
        "def dls_computer_move(board, player, depth_limit):\n",
        "    valid_moves = generate_valid_moves(board)\n",
        "    random.shuffle(valid_moves)\n",
        "    for move in valid_moves:\n",
        "        new_board = copy.deepcopy(board)\n",
        "        new_board[move[0]][move[1]] = player\n",
        "        if has_player_won(new_board, player):\n",
        "            return move\n",
        "        elif not is_board_full(new_board) and depth_limit > 0:\n",
        "            opp_player = 'X' if player == 'O' else 'O'\n",
        "            opp_move = dls_computer_move(new_board, opp_player, depth_limit - 1)\n",
        "            if opp_move is None:\n",
        "                return move\n",
        "    return None"
      ]
    },
    {
      "cell_type": "markdown",
      "metadata": {},
      "source": [
        "### Breadth-First Search (BFS) Algorithm\n",
        "\n",
        "The `bfs_computer_move(board, player)` function implements the BFS strategy for the AI opponent's move. It explores potential moves by considering all possible sequences of moves. It uses a queue data structure to explore all possible game states and find the best move that leads to a win, if possible."
      ]
    },
    {
      "cell_type": "code",
      "execution_count": 8,
      "metadata": {},
      "outputs": [],
      "source": [
        "# Breadth-First Search algorithm for computer's move\n",
        "def bfs_computer_move(board, player):\n",
        "    valid_moves = generate_valid_moves(board)\n",
        "    random.shuffle(valid_moves)\n",
        "    for move in valid_moves:\n",
        "        new_board = copy.deepcopy(board)\n",
        "        new_board[move[0]][move[1]] = player\n",
        "        if has_player_won(new_board, player):\n",
        "            return move\n",
        "        elif not is_board_full(new_board):\n",
        "            opp_player = 'X' if player == 'O' else 'O'\n",
        "            queue = deque([(new_board, opp_player)])\n",
        "            while queue:\n",
        "                curr_board, curr_player = queue.popleft()\n",
        "                next_moves = generate_valid_moves(curr_board)\n",
        "                random.shuffle(next_moves)\n",
        "                for next_move in next_moves:\n",
        "                    next_board = copy.deepcopy(curr_board)\n",
        "                    next_board[next_move[0]][next_move[1]] = curr_player\n",
        "                    if has_player_won(next_board, player):\n",
        "                        return next_move\n",
        "                    elif not is_board_full(next_board):\n",
        "                        queue.append((next_board, 'X' if curr_player == 'O' else 'O'))\n",
        "    return None"
      ]
    },
    {
      "cell_type": "markdown",
      "metadata": {},
      "source": [
        "### Playing the Game\n",
        "\n",
        "The `play_game()` function orchestrates the game between the player and the AI opponent. It displays the current board state, allows the player to make a move, and then handles the AI opponent's move based on the chosen strategy. The player's moves are indicated by 'X', and the AI opponent's moves are indicated by 'O'.\n",
        "\n",
        "The player can choose either the DLS or BFS strategy for the AI opponent. For the DLS strategy, the player can specify the depth limit to control the AI's search depth."
      ]
    },
    {
      "cell_type": "code",
      "execution_count": 9,
      "metadata": {},
      "outputs": [],
      "source": [
        "# Play the Tic Tac Toe game\n",
        "def play_game():\n",
        "    board = initialize_board()\n",
        "    display_board(board)\n",
        "\n",
        "    # Choose computer move strategy\n",
        "    computer_strategy = input(\"Choose computer move strategy (DLS or BFS): \").strip().lower()\n",
        "    if computer_strategy not in {'dls', 'bfs'}:\n",
        "        print(\"Invalid choice. Please choose DLS or BFS.\")\n",
        "        return\n",
        "\n",
        "    # Set depth limit for DLS strategy\n",
        "    depth_limit = None\n",
        "    if computer_strategy == 'dls':\n",
        "        while True:\n",
        "            depth_limit = input(\"Enter depth limit for DLS: \")\n",
        "            if depth_limit.isdigit():\n",
        "                depth_limit = int(depth_limit)\n",
        "                break\n",
        "            else:\n",
        "                print(\"Invalid input. Please enter a positive integer.\")\n",
        "\n",
        "    while True:\n",
        "        # Player's move\n",
        "        while True:\n",
        "            position = int(input(\"Enter your move (1-9): \"))\n",
        "            position -= 1  # Convert to 0-based indexing\n",
        "            row = position // 3\n",
        "            col = position % 3\n",
        "            if 0 <= position <= 8 and make_player_move(board, row, col):\n",
        "                break\n",
        "            else:\n",
        "                print(\"Invalid move. Try again.\")\n",
        "\n",
        "        display_board(board)\n",
        "\n",
        "        if has_player_won(board, 'X'):\n",
        "            print(\"Congratulations! You win!\")\n",
        "            break\n",
        "        elif is_board_full(board):\n",
        "            print(\"It's a draw!\")\n",
        "            break\n",
        "\n",
        "        # Computer's move\n",
        "        computer_move = None\n",
        "        print(\"Computer's move:\")\n",
        "        if computer_strategy == 'dls':\n",
        "            computer_move = dls_computer_move(board, 'O', depth_limit)\n",
        "        elif computer_strategy == 'bfs':\n",
        "            computer_move = bfs_computer_move(board, 'O')\n",
        "\n",
        "        if computer_move is not None:\n",
        "            board[computer_move[0]][computer_move[1]] = 'O'\n",
        "\n",
        "        display_board(board)\n",
        "\n",
        "        if has_player_won(board, 'O'):\n",
        "            print(\"Computer wins! Better luck next time.\")\n",
        "            break\n",
        "        elif is_board_full(board):\n",
        "            print(\"It's a draw!\")"
      ]
    },
    {
      "cell_type": "markdown",
      "metadata": {},
      "source": [
        "### Starting the Game\n",
        "\n",
        "The main part of the program starts the game by calling the `play_game()` function if the script is executed directly.\n",
        "\n",
        "Overall, this program provides an interactive Tic Tac Toe experience where the player can compete against an AI opponent that utilizes depth-limited search or breadth-first search strategies to make its moves. The player can choose their move and observe the AI opponent's moves as they attempt to win or force a draw in the game."
      ]
    },
    {
      "cell_type": "code",
      "execution_count": 10,
      "metadata": {},
      "outputs": [
        {
          "name": "stdout",
          "output_type": "stream",
          "text": [
            "\n",
            "Current Board:\n",
            "  |   |  \n",
            "---------\n",
            "  |   |  \n",
            "---------\n",
            "  |   |  \n",
            "---------\n",
            "\n",
            "Current Board:\n",
            "  | X |  \n",
            "---------\n",
            "  |   |  \n",
            "---------\n",
            "  |   |  \n",
            "---------\n",
            "Computer's move:\n",
            "\n",
            "Current Board:\n",
            "  | X |  \n",
            "---------\n",
            "  | O |  \n",
            "---------\n",
            "  |   |  \n",
            "---------\n",
            "\n",
            "Current Board:\n",
            "  | X | X\n",
            "---------\n",
            "  | O |  \n",
            "---------\n",
            "  |   |  \n",
            "---------\n",
            "Computer's move:\n",
            "\n",
            "Current Board:\n",
            "O | X | X\n",
            "---------\n",
            "  | O |  \n",
            "---------\n",
            "  |   |  \n",
            "---------\n",
            "Invalid move. Try again.\n",
            "\n",
            "Current Board:\n",
            "O | X | X\n",
            "---------\n",
            "  | O | X\n",
            "---------\n",
            "  |   |  \n",
            "---------\n",
            "Computer's move:\n",
            "\n",
            "Current Board:\n",
            "O | X | X\n",
            "---------\n",
            "  | O | X\n",
            "---------\n",
            "  |   | O\n",
            "---------\n",
            "Computer wins! Better luck next time.\n"
          ]
        }
      ],
      "source": [
        "# Start the game\n",
        "if __name__ == \"__main__\":\n",
        "    play_game()"
      ]
    },
    {
      "cell_type": "markdown",
      "metadata": {
        "id": "5bcw1xTJmDRf"
      },
      "source": [
        "**Sample Output File of Depth Limit Search:**\n",
        "\n",
        "[Google Drive Link of outputDLS.txt](https://drive.google.com/file/d/12-9b30z2uXJeXbHvZ3Ys6YJTdCg5-7E1/view)\n",
        "\n",
        "\n",
        "---\n",
        "\n",
        "**Sample Output File of Breadth First Search:**\n",
        "\n",
        "[Google Drive Link of outputBFS.txt](https://drive.google.com/file/d/1_ehlSshWP412EmCPNQEZ8pLl3VODE_kV/view)"
      ]
    },
    {
      "cell_type": "markdown",
      "metadata": {
        "id": "qibayrV-kz-O"
      },
      "source": [
        ">Certainly! Here's a brief explanation of Depth-Limited Search (DLS) and Breadth-First Search (BFS):\n",
        "\n",
        "## Depth-Limited Search (DLS)\n",
        "\n",
        "Depth-Limited Search is a search algorithm used in tree traversal and graph traversal. It's a variation of Depth-First Search (DFS) that limits the depth of exploration. In DFS, the algorithm explores as far as possible along a branch before backtracking. However, in DLS, the exploration is restricted to a certain depth level in the search tree.\n",
        "\n",
        "The primary idea behind DLS is to prevent excessive depth exploration, which can lead to infinite loops or long-running computations in large search spaces. By setting a depth limit, DLS can be more efficient in certain scenarios, especially when the goal is to find a solution within a limited depth.\n",
        "\n",
        "In the context of the provided Tic Tac Toe game code, the DLS algorithm is used by the AI opponent to evaluate potential moves up to a specified depth limit. It explores the game tree, simulating both player and opponent moves, to determine the best move that maximizes its chances of winning. If the opponent cannot find a winning move within the depth limit, it selects a move that prevents the player from winning.\n",
        "\n",
        "## Breadth-First Search (BFS)\n",
        "\n",
        "Breadth-First Search is another search algorithm commonly used for traversing or searching in tree or graph structures. Unlike DFS, which explores as deeply as possible before backtracking, BFS explores all the neighbors of a node (or all nodes at a given depth) before moving on to the next level of nodes. This leads to a level-by-level exploration of the search space.\n",
        "\n",
        "BFS is particularly useful when looking for the shortest path between nodes or when exploring all possible states in a discrete space. It guarantees that the shortest path will be found if the graph is unweighted.\n",
        "\n",
        "In the context of the provided Tic Tac Toe game code, the BFS algorithm is utilized by the AI opponent to evaluate potential moves by considering all possible sequences of moves. It explores different game states, simulating both player and opponent moves, and selects a move that leads to a win or a forced draw if possible. The BFS strategy ensures that the AI opponent explores all possible outcomes of the game up to a certain depth.\n",
        "\n",
        "Both DLS and BFS are valuable search strategies, each with its own strengths and weaknesses. DLS focuses on exploring a limited depth, while BFS systematically explores all possible states up to a certain level. The choice of strategy depends on the problem domain and the desired trade-offs between depth and breadth of exploration."
      ]
    }
  ],
  "metadata": {
    "colab": {
      "provenance": []
    },
    "kernelspec": {
      "display_name": "Python 3",
      "name": "python3"
    },
    "language_info": {
      "codemirror_mode": {
        "name": "ipython",
        "version": 3
      },
      "file_extension": ".py",
      "mimetype": "text/x-python",
      "name": "python",
      "nbconvert_exporter": "python",
      "pygments_lexer": "ipython3",
      "version": "3.11.6"
    }
  },
  "nbformat": 4,
  "nbformat_minor": 0
}
